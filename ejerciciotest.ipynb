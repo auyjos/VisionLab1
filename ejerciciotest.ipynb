{
 "cells": [
  {
   "cell_type": "code",
   "execution_count": null,
   "metadata": {},
   "outputs": [],
   "source": [
    "import numpy as np\n",
    "import matplotlib.pyplot as plt\n",
    "import cv2\n",
    "from sklearn.cluster import KMeans\n",
    "from PIL import Image"
   ]
  },
  {
   "cell_type": "code",
   "execution_count": null,
   "metadata": {},
   "outputs": [],
   "source": [
    "\n",
    "# Lista de imágenes locales para probar\n",
    "image_paths = [\n",
    "    \"cielo.jpg\",\n",
    "    \"pradera.jpg\",\n",
    "    \"especias.jpg\",\n",
    "    \"ciudad.jpg\"\n",
    "]"
   ]
  },
  {
   "cell_type": "code",
   "execution_count": null,
   "metadata": {},
   "outputs": [],
   "source": [
    "\n",
    "# Función para segmentar la imagen\n",
    "def segment_image(image_path, k):\n",
    "    if k < 2:\n",
    "        print(\"El número de clusters k debe ser mayor o igual a 2.\")\n",
    "        return\n",
    "     # Cargar la imagen\n",
    "    image = cv2.imread(image_path)\n",
    "    image = cv2.cvtColor(image, cv2.COLOR_BGR2RGB)\n",
    "    \n",
    "    # Obtener dimensiones\n",
    "    h, w, c = image.shape\n",
    "    \n",
    "    # Convertir la imagen en una matriz de píxeles\n",
    "    pixels = image.reshape((-1, 3))\n",
    "    \n",
    "    # Aplicar K-Means\n",
    "    kmeans = KMeans(n_clusters=k, random_state=42, n_init=10)\n",
    "    labels = kmeans.fit_predict(pixels)\n",
    "    \n",
    "    # Mapa de segmentos (cada pixel con su etiqueta de cluster)\n",
    "    segmented_map = labels.reshape((h, w))\n",
    "    \n",
    "    # Imagen cuantizada con los colores promedio de cada segmento\n",
    "    quantized_image = kmeans.cluster_centers_.astype('uint8')[labels]\n",
    "    quantized_image = quantized_image.reshape((h, w, 3))"
   ]
  },
  {
   "cell_type": "code",
   "execution_count": null,
   "metadata": {},
   "outputs": [],
   "source": [
    "    # Mostrar resultados\n",
    "    fig, ax = plt.subplots(1, 3, figsize=(18, 5))\n",
    "    ax[0].imshow(image)\n",
    "    ax[0].set_title(\"Imagen Original\")\n",
    "    ax[0].axis(\"off\")\n",
    "    \n",
    "    ax[1].imshow(segmented_map, cmap='jet')\n",
    "    ax[1].set_title(\"Mapa de Segmentos\")\n",
    "    ax[1].axis(\"off\")\n",
    "    \n",
    "    ax[2].imshow(quantized_image)\n",
    "    ax[2].set_title(\"Imagen Cuantizada\")\n",
    "    ax[2].axis(\"off\")\n",
    "    \n",
    "    plt.show()\n",
    "\n",
    "# Solicitar input al usuario para el valor de k\n",
    "k = int(input(\"Ingrese el número de clusters (k >= 2): \"))\n"
   ]
  },
  {
   "cell_type": "code",
   "execution_count": 4,
   "metadata": {},
   "outputs": [
    {
     "data": {
      "application/vnd.jupyter.widget-view+json": {
       "model_id": "267fe668e2974bfa95136b1eacc2d693",
       "version_major": 2,
       "version_minor": 0
      },
      "text/plain": [
       "Dropdown(description='Imagen:', options=('cielo.jpg', 'pradera.jpg', 'especias.jpg', 'ciudad.jpg'), value='cie…"
      ]
     },
     "metadata": {},
     "output_type": "display_data"
    }
   ],
   "source": [
    "\n",
    "\n",
    "\n",
    "   \n",
    "    \n",
    "\n",
    "# Ejecutar segmentación para todas las imágenes\n",
    "for image_path in image_paths:\n",
    "    print(f\"Segmentando imagen: {image_path}\")\n",
    "    segment_image(image_path, k)\n"
   ]
  }
 ],
 "metadata": {
  "kernelspec": {
   "display_name": "venv",
   "language": "python",
   "name": "python3"
  },
  "language_info": {
   "codemirror_mode": {
    "name": "ipython",
    "version": 3
   },
   "file_extension": ".py",
   "mimetype": "text/x-python",
   "name": "python",
   "nbconvert_exporter": "python",
   "pygments_lexer": "ipython3",
   "version": "3.12.0"
  }
 },
 "nbformat": 4,
 "nbformat_minor": 2
}
